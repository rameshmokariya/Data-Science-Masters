{
 "cells": [
  {
   "cell_type": "markdown",
   "id": "7995e785",
   "metadata": {},
   "source": [
    "## Assignment 3"
   ]
  },
  {
   "cell_type": "markdown",
   "id": "92f57117",
   "metadata": {},
   "source": [
    "#### 1. What are the characteristics of the tuples? Is tuple immutable?"
   ]
  },
  {
   "cell_type": "markdown",
   "id": "93cc7280",
   "metadata": {},
   "source": [
    "Tuples are used to store multiple items in a single variable.\n",
    "\n",
    "A tuple is a collection which is ordered and unchangeable.\n",
    "\n",
    "Tuples are written with round brackets.\n",
    "\n",
    "Tuples are immuatable."
   ]
  },
  {
   "cell_type": "markdown",
   "id": "a11b7d15",
   "metadata": {},
   "source": [
    "#### 2. What are the two tuple methods in python? Give an example of each method. Give a reason why tuples have only two in-built methods as compared to Lists."
   ]
  },
  {
   "cell_type": "code",
   "execution_count": 1,
   "id": "6e127021",
   "metadata": {},
   "outputs": [
    {
     "data": {
      "text/plain": [
       "2"
      ]
     },
     "execution_count": 1,
     "metadata": {},
     "output_type": "execute_result"
    }
   ],
   "source": [
    "# method 1 - Count\n",
    "tuple1 = (1,2,3,4,5,5)\n",
    "tuple1.count(5)"
   ]
  },
  {
   "cell_type": "code",
   "execution_count": 2,
   "id": "f3f37133",
   "metadata": {},
   "outputs": [
    {
     "data": {
      "text/plain": [
       "1"
      ]
     },
     "execution_count": 2,
     "metadata": {},
     "output_type": "execute_result"
    }
   ],
   "source": [
    "# method 2 - index\n",
    "tuple1.index(2)"
   ]
  },
  {
   "cell_type": "markdown",
   "id": "296538fa",
   "metadata": {},
   "source": [
    "Tuple have only two in-built methods as compared to Lists because Tuples are immutable in nature."
   ]
  },
  {
   "cell_type": "markdown",
   "id": "a45ffc32",
   "metadata": {},
   "source": [
    "#### 3. Which collection datatypes in python do not allow duplicate items? Write a code using a set to remove duplicates from the given list."
   ]
  },
  {
   "cell_type": "code",
   "execution_count": 3,
   "id": "05efac6f",
   "metadata": {},
   "outputs": [],
   "source": [
    "lst = [1, 1, 1, 2, 1, 3, 1, 4, 2, 1, 2, 2, 2, 3, 2, 4, 3, 1, 3, 2, 3, 3, 3, 4, 4, 1, 4, 2, 4, 3, 4, 4]"
   ]
  },
  {
   "cell_type": "code",
   "execution_count": 4,
   "id": "14814145",
   "metadata": {},
   "outputs": [
    {
     "data": {
      "text/plain": [
       "[1, 2, 3, 4]"
      ]
     },
     "execution_count": 4,
     "metadata": {},
     "output_type": "execute_result"
    }
   ],
   "source": [
    "lst = list(set(lst))\n",
    "lst"
   ]
  },
  {
   "cell_type": "markdown",
   "id": "e00b727a",
   "metadata": {},
   "source": [
    "#### 4. Explain the difference between the union() and update() methods for a set. Give an example of each method."
   ]
  },
  {
   "cell_type": "code",
   "execution_count": 5,
   "id": "ec2dd94b",
   "metadata": {},
   "outputs": [],
   "source": [
    "set1 = {1,2,3,4,5,6,7,8,9}"
   ]
  },
  {
   "cell_type": "code",
   "execution_count": 6,
   "id": "6e6114e9",
   "metadata": {},
   "outputs": [],
   "source": [
    "set2 = {7,8,9,10,12,13,14}"
   ]
  },
  {
   "cell_type": "code",
   "execution_count": 7,
   "id": "2bdf071f",
   "metadata": {},
   "outputs": [
    {
     "data": {
      "text/plain": [
       "{1, 2, 3, 4, 5, 6, 7, 8, 9, 10, 12, 13, 14}"
      ]
     },
     "execution_count": 7,
     "metadata": {},
     "output_type": "execute_result"
    }
   ],
   "source": [
    "set1.union(set2)"
   ]
  },
  {
   "cell_type": "code",
   "execution_count": 8,
   "id": "2ce26165",
   "metadata": {},
   "outputs": [
    {
     "data": {
      "text/plain": [
       "{1, 2, 3, 4, 5, 6, 7, 8, 9, 10, 12, 13, 14}"
      ]
     },
     "execution_count": 8,
     "metadata": {},
     "output_type": "execute_result"
    }
   ],
   "source": [
    "set1.update(set2)\n",
    "set1"
   ]
  },
  {
   "cell_type": "code",
   "execution_count": 9,
   "id": "6f583a8e",
   "metadata": {},
   "outputs": [
    {
     "data": {
      "text/plain": [
       "{7, 8, 9, 10, 12, 13, 14}"
      ]
     },
     "execution_count": 9,
     "metadata": {},
     "output_type": "execute_result"
    }
   ],
   "source": [
    "set2"
   ]
  },
  {
   "cell_type": "markdown",
   "id": "47a390ec",
   "metadata": {},
   "source": [
    "union() method returns a new set that contains all unique elements from both sets \n",
    "\n",
    "update() method adds all elements from one set to another. This method modifies the set1."
   ]
  },
  {
   "cell_type": "markdown",
   "id": "57802f09",
   "metadata": {},
   "source": [
    "#### 5. What is a dictionary? Give an example. Also, state whether a dictionary is ordered or unordered."
   ]
  },
  {
   "cell_type": "markdown",
   "id": "042d64f4",
   "metadata": {},
   "source": [
    "A Dictionary is a collection of key-value pairs where each key is unique and maps to a value.\n",
    "Dictionary is unordered meaning that items have no index."
   ]
  },
  {
   "cell_type": "code",
   "execution_count": 10,
   "id": "6a3b820b",
   "metadata": {},
   "outputs": [
    {
     "data": {
      "text/plain": [
       "{'name': 'RMS', 'age': 20, 'country': 'India'}"
      ]
     },
     "execution_count": 10,
     "metadata": {},
     "output_type": "execute_result"
    }
   ],
   "source": [
    "person = {\"name\":\"RMS\",\n",
    "         \"age\" : 20,\n",
    "         \"country\":\"India\"}\n",
    "person"
   ]
  },
  {
   "cell_type": "markdown",
   "id": "a10555dc",
   "metadata": {},
   "source": [
    "#### 6. Can we create a nested dictionary? If so, please give an example by creating a simple one-level nested dictionary."
   ]
  },
  {
   "cell_type": "markdown",
   "id": "20929d7a",
   "metadata": {},
   "source": [
    "Yes, We can create nested dictionary"
   ]
  },
  {
   "cell_type": "code",
   "execution_count": 11,
   "id": "4467528c",
   "metadata": {},
   "outputs": [
    {
     "data": {
      "text/plain": [
       "{'name': 'RMS',\n",
       " 'age': 20,\n",
       " 'address': {'city': 'Ahmedabad', 'state': 'Gujarat'}}"
      ]
     },
     "execution_count": 11,
     "metadata": {},
     "output_type": "execute_result"
    }
   ],
   "source": [
    "person = {\"name\":\"RMS\",\n",
    "         \"age\" : 20,\n",
    "         \"address\": {\"city\": \"Ahmedabad\",\n",
    "      \"state\": \"Gujarat\"}\n",
    "         }\n",
    "person"
   ]
  },
  {
   "cell_type": "markdown",
   "id": "c7bbf798",
   "metadata": {},
   "source": [
    "#### 7. Using setdefault() method, create key named topics in the given dictionary and also add the value of the key as this list ['Python', 'Machine Learning’, 'Deep Learning'] in dict1 = {'language' : 'Python', 'course': 'Data Science Masters'}"
   ]
  },
  {
   "cell_type": "code",
   "execution_count": 12,
   "id": "05347e3a",
   "metadata": {},
   "outputs": [
    {
     "name": "stdout",
     "output_type": "stream",
     "text": [
      "{'language': 'Python', 'course': 'Data Science Masters', 'topics': ['Python', 'Machine Learning', 'Deep Learning']}\n"
     ]
    }
   ],
   "source": [
    "dict1 = {'language' : 'Python', 'course': 'Data Science Masters'}\n",
    "dict1.setdefault('topics', ['Python', 'Machine Learning', 'Deep Learning'])\n",
    "print(dict1)"
   ]
  },
  {
   "cell_type": "markdown",
   "id": "8569fac1",
   "metadata": {},
   "source": [
    "#### 8. What are the three view objects in dictionaries? Use the three in-built methods in python to display these three view objects for the given dictionary. dict1 = {'Sport': 'Cricket' , 'Teams': ['India', 'Australia', 'England', 'South Africa', 'Sri Lanka', 'New Zealand']}"
   ]
  },
  {
   "cell_type": "markdown",
   "id": "6beb5cb9",
   "metadata": {},
   "source": [
    "There are three view Objects in Dictionaries\n",
    "1. keys\n",
    "2. values\n",
    "3. items"
   ]
  },
  {
   "cell_type": "code",
   "execution_count": 13,
   "id": "388d5bc3",
   "metadata": {},
   "outputs": [],
   "source": [
    "dict1 = {'Sport': 'Cricket' , 'Teams': ['India', 'Australia', 'England', 'South Africa', 'Sri Lanka', 'New Zealand']}"
   ]
  },
  {
   "cell_type": "code",
   "execution_count": 14,
   "id": "2ff34657",
   "metadata": {},
   "outputs": [
    {
     "name": "stdout",
     "output_type": "stream",
     "text": [
      "keys: dict_keys(['Sport', 'Teams'])\n"
     ]
    }
   ],
   "source": [
    "print(\"keys:\", dict1.keys())"
   ]
  },
  {
   "cell_type": "code",
   "execution_count": 15,
   "id": "b7258214",
   "metadata": {},
   "outputs": [
    {
     "name": "stdout",
     "output_type": "stream",
     "text": [
      "values: dict_values(['Cricket', ['India', 'Australia', 'England', 'South Africa', 'Sri Lanka', 'New Zealand']])\n"
     ]
    }
   ],
   "source": [
    "print(\"values:\", dict1.values())"
   ]
  },
  {
   "cell_type": "code",
   "execution_count": 16,
   "id": "e7570ca1",
   "metadata": {},
   "outputs": [
    {
     "name": "stdout",
     "output_type": "stream",
     "text": [
      "items: dict_items([('Sport', 'Cricket'), ('Teams', ['India', 'Australia', 'England', 'South Africa', 'Sri Lanka', 'New Zealand'])])\n"
     ]
    }
   ],
   "source": [
    "print(\"items:\", dict1.items())"
   ]
  }
 ],
 "metadata": {
  "kernelspec": {
   "display_name": "Python 3 (ipykernel)",
   "language": "python",
   "name": "python3"
  },
  "language_info": {
   "codemirror_mode": {
    "name": "ipython",
    "version": 3
   },
   "file_extension": ".py",
   "mimetype": "text/x-python",
   "name": "python",
   "nbconvert_exporter": "python",
   "pygments_lexer": "ipython3",
   "version": "3.9.12"
  }
 },
 "nbformat": 4,
 "nbformat_minor": 5
}
