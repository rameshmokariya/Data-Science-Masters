{
 "cells": [
  {
   "cell_type": "markdown",
   "id": "1030075b",
   "metadata": {},
   "source": [
    "## MongoDB Assignment"
   ]
  },
  {
   "cell_type": "markdown",
   "id": "e8f6fa04",
   "metadata": {},
   "source": [
    "#### 1. What is MongoDB? Explain non-relational databases in short. In which scenarios it is preferred to use MongoDB over SQL databases?\n"
   ]
  },
  {
   "cell_type": "markdown",
   "id": "c33ec3f6",
   "metadata": {},
   "source": [
    "MongoDB is a document-oriented NoSQL database management system that stores data in JSON-like documents with dynamic schemas. "
   ]
  },
  {
   "cell_type": "markdown",
   "id": "6db67a14",
   "metadata": {},
   "source": [
    "Non-relational databases are designed to store and manage unstructured or semi-structured data. Unlike SQL databases, they do not use tables, rows, and columns to store data. Instead, they use various data models such as key-value, document-oriented, graph, or column-family.\n"
   ]
  },
  {
   "cell_type": "markdown",
   "id": "d3962bec",
   "metadata": {},
   "source": [
    "MongoDB is preferred over SQL databases in scenarios where scalability, performance, and flexibility are crucial. MongoDB is a highly scalable and flexible database system that can handle large amounts of data and distribute it across multiple servers. It provides faster read and write operations by storing data in memory, using indexes, and supporting parallel processing. MongoDB's dynamic schema allows for easy and quick changes to the data model and avoids the need for expensive schema migrations."
   ]
  },
  {
   "cell_type": "markdown",
   "id": "a05e7156",
   "metadata": {},
   "source": [
    "#### 2. State and Explain the features of MongoDB.\n"
   ]
  },
  {
   "cell_type": "markdown",
   "id": "345a3b14",
   "metadata": {},
   "source": [
    "Schema-less design: MongoDB uses dynamic schema design that allows for the flexibility to change data structure easily.\n",
    "\n",
    "Document-oriented: MongoDB stores data in documents that contain key-value pairs, making it easier to store, manage and retrieve data.\n",
    "\n",
    "High-performance: MongoDB is designed to handle high write and read workloads and can distribute data across multiple servers for horizontal scalability."
   ]
  },
  {
   "cell_type": "markdown",
   "id": "419c2167",
   "metadata": {},
   "source": [
    "#### 3. Write a code to connect MongoDB to Python. Also, create a database and a collection in MongoDB.\n"
   ]
  },
  {
   "cell_type": "code",
   "execution_count": null,
   "id": "bcc61bb5",
   "metadata": {},
   "outputs": [],
   "source": [
    "import pymongo\n",
    "\n",
    "# connect to MongoDB\n",
    "client = pymongo.MongoClient(\"mongodb://localhost:27017/\")\n",
    "\n",
    "# create a database\n",
    "mydb = client[\"mydatabase\"]\n",
    "\n",
    "# create a collection\n",
    "mycollection = mydb[\"customers\"]\n"
   ]
  },
  {
   "cell_type": "markdown",
   "id": "3ba95b34",
   "metadata": {},
   "source": [
    "#### 4. Using the database and the collection created in question number 3, write a code to insert one record, and insert many records. Use the find() and find_one() methods to print the inserted record.\n"
   ]
  },
  {
   "cell_type": "code",
   "execution_count": null,
   "id": "41f0c946",
   "metadata": {},
   "outputs": [],
   "source": [
    "# insert one record\n",
    "mydict = {\"name\": \"RMS\", \"address\": \"55\"}\n",
    "\n",
    "mycollection.insert_one(mydict)"
   ]
  },
  {
   "cell_type": "code",
   "execution_count": null,
   "id": "9e2670e8",
   "metadata": {},
   "outputs": [],
   "source": [
    "# insert multiple records\n",
    "mylist = [\n",
    "  {\"name\": \"Suresh\", \"address\": \"652\"},\n",
    "  {\"name\": \"Mahesh\", \"address\": \"21\"},\n",
    "  {\"name\": \"Umesh\", \"address\": \"345\"},\n",
    "  {\"name\": \"Dharmesh\", \"address\": \"2\"},\n",
    "  {\"name\": \"Bhavesh\", \"address\": \"1\"},\n",
    "  {\"name\": \"Haresh\", \"address\": \"331\"}\n",
    "]\n",
    "mycollection.insert_many(mylist)"
   ]
  },
  {
   "cell_type": "markdown",
   "id": "650be8ea",
   "metadata": {},
   "source": [
    "#### 5. Explain how you can use the find() method to query the MongoDB database. Write a simple code to demonstrate this.\n",
    "  "
   ]
  },
  {
   "cell_type": "markdown",
   "id": "0153af60",
   "metadata": {},
   "source": [
    "The find() method in MongoDB is used to query a collection and retrieve documents that match a specific criteria."
   ]
  },
  {
   "cell_type": "code",
   "execution_count": null,
   "id": "4cc47795",
   "metadata": {},
   "outputs": [],
   "source": [
    "# query the collection for documents with name = \"John\" and address = \"Highway 37\"\n",
    "myquery = {\"name\": \"Mahesh\", \"address\": \"21\"}\n",
    "mydoc = mycollection.find(myquery)\n",
    "\n",
    "# print the documents that match the query\n",
    "for x in mydoc:\n",
    "  print(x)\n"
   ]
  },
  {
   "cell_type": "markdown",
   "id": "abfe7625",
   "metadata": {},
   "source": [
    "#### 6. Explain the sort() method. Give an example to demonstrate sorting in MongoDB.\n"
   ]
  },
  {
   "cell_type": "markdown",
   "id": "902fc8dc",
   "metadata": {},
   "source": [
    "The sort() method in MongoDB is used to sort the documents in a collection based on a given field in ascending or descending order."
   ]
  },
  {
   "cell_type": "code",
   "execution_count": null,
   "id": "fedf52ce",
   "metadata": {},
   "outputs": [],
   "source": [
    "# sort the documents by name in ascending order\n",
    "mydoc = mycollection.find().sort(\"name\")"
   ]
  },
  {
   "cell_type": "markdown",
   "id": "72371496",
   "metadata": {},
   "source": [
    "#### 7. Explain why delete_one(), delete_many(), and drop() is used."
   ]
  },
  {
   "cell_type": "markdown",
   "id": "c7903da6",
   "metadata": {},
   "source": [
    "In MongoDB, the `delete_one()` and `delete_many()` methods are used to delete one or many documents that match a specific criteria from a collection, respectively. The `drop()` method is used to drop an entire collection from a database."
   ]
  },
  {
   "cell_type": "code",
   "execution_count": null,
   "id": "19511248",
   "metadata": {},
   "outputs": [],
   "source": [
    "# delete the first document that has name = \"John\"\n",
    "myquery = {\"name\": \"Bhavesh\"}\n",
    "mycollection.delete_one(myquery)"
   ]
  },
  {
   "cell_type": "code",
   "execution_count": null,
   "id": "ca6c231b",
   "metadata": {},
   "outputs": [],
   "source": [
    "# delete all documents that have name = \"John\"\n",
    "myquery = {\"name\": \"Bhavesh\"}\n",
    "mycollection.delete_many(myquery)"
   ]
  },
  {
   "cell_type": "code",
   "execution_count": null,
   "id": "1ebc1e1e",
   "metadata": {},
   "outputs": [],
   "source": [
    "# drop the \"customers\" collection from the \"mydatabase\" database\n",
    "mycollection.drop()"
   ]
  }
 ],
 "metadata": {
  "kernelspec": {
   "display_name": "Python 3 (ipykernel)",
   "language": "python",
   "name": "python3"
  },
  "language_info": {
   "codemirror_mode": {
    "name": "ipython",
    "version": 3
   },
   "file_extension": ".py",
   "mimetype": "text/x-python",
   "name": "python",
   "nbconvert_exporter": "python",
   "pygments_lexer": "ipython3",
   "version": "3.9.12"
  }
 },
 "nbformat": 4,
 "nbformat_minor": 5
}
