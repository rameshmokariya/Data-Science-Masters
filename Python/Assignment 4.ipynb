{
 "cells": [
  {
   "cell_type": "markdown",
   "id": "a1f113e1",
   "metadata": {},
   "source": [
    "## Assignment 4"
   ]
  },
  {
   "cell_type": "markdown",
   "id": "bedf0b58",
   "metadata": {},
   "source": [
    "#### 1. Which keyword is used to create a function? Create a function to return a list of odd numbers in the range of 1 to 25."
   ]
  },
  {
   "cell_type": "code",
   "execution_count": null,
   "id": "853dc0ca",
   "metadata": {},
   "outputs": [],
   "source": [
    "def() keyword is used to create a function."
   ]
  },
  {
   "cell_type": "code",
   "execution_count": 4,
   "id": "b7a4ecfb",
   "metadata": {},
   "outputs": [],
   "source": [
    "def odd():\n",
    "    odd_list = []\n",
    "    for i in range(1,26):\n",
    "        if i%2 != 0:\n",
    "            odd_list.append(i)\n",
    "    return odd_list"
   ]
  },
  {
   "cell_type": "code",
   "execution_count": 5,
   "id": "ed9e3619",
   "metadata": {},
   "outputs": [
    {
     "data": {
      "text/plain": [
       "[1, 3, 5, 7, 9, 11, 13, 15, 17, 19, 21, 23, 25]"
      ]
     },
     "execution_count": 5,
     "metadata": {},
     "output_type": "execute_result"
    }
   ],
   "source": [
    "odd()"
   ]
  },
  {
   "cell_type": "markdown",
   "id": "de7aadb8",
   "metadata": {},
   "source": [
    "#### 2. Why *args and **kwargs is used in some functions? Create a function each for *args and **kwargs to demonstrate their use."
   ]
  },
  {
   "cell_type": "markdown",
   "id": "2668bed2",
   "metadata": {},
   "source": [
    "`*args` and `**kwargs` are used in function definitions to allow a function to accept a variable number of arguments. "
   ]
  },
  {
   "cell_type": "markdown",
   "id": "540bde8b",
   "metadata": {},
   "source": [
    "The `*` syntax is used to pass a variable number of non-keyword arguments to a function."
   ]
  },
  {
   "cell_type": "markdown",
   "id": "48f64745",
   "metadata": {},
   "source": [
    "The `**` syntax is used to pass a variable number of keyword arguments."
   ]
  },
  {
   "cell_type": "code",
   "execution_count": 7,
   "id": "0e9667a3",
   "metadata": {},
   "outputs": [],
   "source": [
    "#args\n",
    "def sum_(*args):\n",
    "    result = 0\n",
    "    for i in args:\n",
    "        result += i\n",
    "    return result"
   ]
  },
  {
   "cell_type": "code",
   "execution_count": 8,
   "id": "b5ca862c",
   "metadata": {},
   "outputs": [
    {
     "data": {
      "text/plain": [
       "5"
      ]
     },
     "execution_count": 8,
     "metadata": {},
     "output_type": "execute_result"
    }
   ],
   "source": [
    "sum_(1,2,3,-1)"
   ]
  },
  {
   "cell_type": "code",
   "execution_count": 9,
   "id": "0755d3aa",
   "metadata": {},
   "outputs": [
    {
     "name": "stdout",
     "output_type": "stream",
     "text": [
      "name: RMS\n",
      "age: 20\n",
      "city: Ahmedabad\n"
     ]
    }
   ],
   "source": [
    "#kwargs\n",
    "def print_kwargs(**kwargs):\n",
    "    for key, value in kwargs.items():\n",
    "        print(f\"{key}: {value}\")\n",
    "\n",
    "print_kwargs(name=\"RMS\", age=20, city=\"Ahmedabad\")"
   ]
  },
  {
   "cell_type": "markdown",
   "id": "3063f661",
   "metadata": {},
   "source": [
    "#### 3. What is an iterator in python? Name the method used to initialise the iterator object and the method used for iteration. Use these methods to print the first five elements of the given list [2, 4, 6, 8, 10, 12, 14, 16,18, 20]."
   ]
  },
  {
   "cell_type": "markdown",
   "id": "b2573175",
   "metadata": {},
   "source": [
    "In Python, an iterator is an object that implements the iterator protocol, which consists of the methods `__iter__()` and `__next__()`. \n",
    "\n",
    "The `__iter__()` method returns the iterator object itself.\n",
    "\n",
    "The `__next__()` method returns the next value from the iterator. If there are no more values to return, `__next__()` should raise the StopIteration exception."
   ]
  },
  {
   "cell_type": "code",
   "execution_count": 12,
   "id": "a2385ebe",
   "metadata": {},
   "outputs": [
    {
     "name": "stdout",
     "output_type": "stream",
     "text": [
      "2\n",
      "4\n",
      "6\n",
      "8\n",
      "10\n"
     ]
    }
   ],
   "source": [
    "lst = [2, 4, 6, 8, 10, 12, 14, 16, 18, 20]\n",
    "\n",
    "# Define a iterator\n",
    "class SimpleIterator:\n",
    "    def __init__(self, numbers):\n",
    "        self.numbers = numbers\n",
    "        self.index = 0\n",
    "    \n",
    "    def __iter__(self):\n",
    "        return self\n",
    "\n",
    "    def __next__(self):\n",
    "        if self.index >= len(self.numbers):\n",
    "            raise StopIteration\n",
    "        result = self.numbers[self.index]\n",
    "        self.index += 1\n",
    "        return result\n",
    "\n",
    "\n",
    "it = SimpleIterator(lst)\n",
    "\n",
    "for i in range(5):\n",
    "    print(next(it))"
   ]
  },
  {
   "cell_type": "markdown",
   "id": "1ad2e908",
   "metadata": {},
   "source": [
    "#### 4. What is a generator function in python? Why yield keyword is used? Give an example of a generator function."
   ]
  },
  {
   "cell_type": "markdown",
   "id": "86ea1aee",
   "metadata": {},
   "source": [
    "A generator function in Python is a special type of function that can return a generator object. \n",
    "\n",
    "The generator object is an iterator, which means it can be iterated over to retrieve its values one at a time."
   ]
  },
  {
   "cell_type": "markdown",
   "id": "f74338f8",
   "metadata": {},
   "source": [
    "The yield keyword is used in a generator function to return a value, but unlike a normal return statement, the generator function does not terminate. \n",
    "\n",
    "Instead, the generator function is paused and its state is saved. The next time the generator is called, execution resumes from the point where it was paused and continues until the next yield statement is encountered, at which point the function is paused again."
   ]
  },
  {
   "cell_type": "code",
   "execution_count": 10,
   "id": "1e7f1aa1",
   "metadata": {},
   "outputs": [],
   "source": [
    "def fibonacci(n) :\n",
    "    a,b = 0,1\n",
    "    for i in range(n):\n",
    "        yield a \n",
    "        a,b = b ,a+b"
   ]
  },
  {
   "cell_type": "code",
   "execution_count": 13,
   "id": "13b6eb36",
   "metadata": {},
   "outputs": [
    {
     "name": "stdout",
     "output_type": "stream",
     "text": [
      "0,1,1,2,3,5,8,13,21,34,"
     ]
    }
   ],
   "source": [
    "for i in fibonacci(10) : \n",
    "    print(i, end=\",\")"
   ]
  },
  {
   "cell_type": "markdown",
   "id": "0fd24489",
   "metadata": {},
   "source": [
    "#### 5. Create a generator function for prime numbers less than 1000. Use the next() method to print the first 20 prime numbers."
   ]
  },
  {
   "cell_type": "code",
   "execution_count": 33,
   "id": "ecb7fb9e",
   "metadata": {},
   "outputs": [],
   "source": [
    "def gen_primes():\n",
    "    primes = []\n",
    "    for i in range(2, 1000):\n",
    "        is_prime = True\n",
    "        for prime in primes:\n",
    "            if i % prime == 0:\n",
    "                is_prime = False\n",
    "                break\n",
    "        if is_prime:\n",
    "            primes.append(i)\n",
    "            yield i\n"
   ]
  },
  {
   "cell_type": "code",
   "execution_count": 36,
   "id": "277e0752",
   "metadata": {},
   "outputs": [
    {
     "name": "stdout",
     "output_type": "stream",
     "text": [
      "2\n",
      "3\n",
      "5\n",
      "7\n",
      "11\n",
      "13\n",
      "17\n",
      "19\n",
      "23\n",
      "29\n",
      "31\n",
      "37\n",
      "41\n",
      "43\n",
      "47\n",
      "53\n",
      "59\n",
      "61\n",
      "67\n",
      "71\n"
     ]
    }
   ],
   "source": [
    "primes = gen_primes()\n",
    "for i in range(20):\n",
    "    print(next(primes))"
   ]
  }
 ],
 "metadata": {
  "kernelspec": {
   "display_name": "Python 3 (ipykernel)",
   "language": "python",
   "name": "python3"
  },
  "language_info": {
   "codemirror_mode": {
    "name": "ipython",
    "version": 3
   },
   "file_extension": ".py",
   "mimetype": "text/x-python",
   "name": "python",
   "nbconvert_exporter": "python",
   "pygments_lexer": "ipython3",
   "version": "3.9.12"
  }
 },
 "nbformat": 4,
 "nbformat_minor": 5
}
