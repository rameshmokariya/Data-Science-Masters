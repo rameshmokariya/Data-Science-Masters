{
 "cells": [
  {
   "cell_type": "markdown",
   "id": "296613b5",
   "metadata": {},
   "source": [
    "## OOPS Assignment 1 "
   ]
  },
  {
   "cell_type": "markdown",
   "id": "01b93157",
   "metadata": {},
   "source": [
    "#### 1. Explain Class and Object with respect to Object-Oriented Programming. Give a suitable example."
   ]
  },
  {
   "cell_type": "markdown",
   "id": "22615dc6",
   "metadata": {},
   "source": [
    "Class and Object are 2 Fundamental Concepts in `Object Oriented Programming (OOP)`."
   ]
  },
  {
   "cell_type": "markdown",
   "id": "6ecf7e4a",
   "metadata": {},
   "source": [
    "A `Class` is a Blueprint or a Template that Defines the Properties and Behaviours of an Object. It acts as a Blueprint for Creating Objects.\n",
    "\n",
    "For Example,\n",
    "In the real world, a class can be seen as  a blueprint for creating cars.\n",
    "The Blueprint describes the details such as the number of Wheels, the type of engine, and the color of the car.\n"
   ]
  },
  {
   "cell_type": "markdown",
   "id": "b14514f6",
   "metadata": {},
   "source": [
    "An Object is an instance of a Class. It is a Specific realization of a class and contains the actual data.\n",
    "in the real world, a car is an Object and it is an instance of the class `Car` \n",
    "\n",
    "For Example, A red car with Wheels and a Petrol Engine can be an Object of the Class `Car`."
   ]
  },
  {
   "cell_type": "code",
   "execution_count": 1,
   "id": "af0eb819",
   "metadata": {},
   "outputs": [
    {
     "name": "stdout",
     "output_type": "stream",
     "text": [
      "My Car Name is Thar Car's Color is Black , petrol Engine, and it has 4 Wheels\n",
      "Starting the engine\n",
      "Changing the Gear\n",
      "Stopping the engine\n"
     ]
    }
   ],
   "source": [
    "class Car:\n",
    "    def __init__(self, name, color, engine, wheels):\n",
    "        self.name = name\n",
    "        self.color = color\n",
    "        self.engine = engine\n",
    "        self.wheels = wheels\n",
    "        \n",
    "    def start(self):\n",
    "        print(\"Starting the engine\")\n",
    "        \n",
    "    def gear(self):\n",
    "        print(\"Changing the Gear\")\n",
    "        \n",
    "    def stop(self):\n",
    "        print(\"Stopping the engine\")\n",
    "\n",
    "my_car = Car(\"Thar\",\"Black\", \"petrol\", 4)\n",
    "\n",
    "print(\"My Car Name is\",my_car.name,\"Car's Color is\",my_car.color,\",\", my_car.engine,\"Engine, and it has\",my_car.wheels,\"Wheels\")\n",
    "\n",
    "my_car.start()\n",
    "my_car.gear()\n",
    "my_car.stop() \n"
   ]
  },
  {
   "cell_type": "markdown",
   "id": "60481271",
   "metadata": {},
   "source": [
    "#### 2. Name the four pillars of OOPs."
   ]
  },
  {
   "cell_type": "markdown",
   "id": "25243e05",
   "metadata": {},
   "source": [
    "1. Encapsulation\n",
    "2. Abstraction\n",
    "3. Inheritance\n",
    "4. Polymorphism"
   ]
  },
  {
   "cell_type": "markdown",
   "id": "c3371f1d",
   "metadata": {},
   "source": [
    "#### 3. Explain why the __init__() function is used. Give a suitable example."
   ]
  },
  {
   "cell_type": "markdown",
   "id": "7d317259",
   "metadata": {},
   "source": [
    "The `__init__` function is used in Python to Initialize an Object when it is created. It is a Special method that is automatically called when an Object of a Class is Created. It is also known as a Constructor."
   ]
  },
  {
   "cell_type": "markdown",
   "id": "b27ef3db",
   "metadata": {},
   "source": [
    "The `__init__` function is used to set the initial state of an Object, including setting the values of its attributes.\n",
    "For Example, When you create an Object of a Class representing a Person, We might use the `__init__` method to set the person's name, age."
   ]
  },
  {
   "cell_type": "code",
   "execution_count": 2,
   "id": "9233a558",
   "metadata": {},
   "outputs": [
    {
     "name": "stdout",
     "output_type": "stream",
     "text": [
      "Name : RMS\n",
      "Age : 20\n"
     ]
    }
   ],
   "source": [
    "class Person:\n",
    "    def __init__(self, name, age):\n",
    "        self.name = name\n",
    "        self.age = age\n",
    "\n",
    "person = Person(\"RMS\", 20)\n",
    "print(\"Name :\",person.name)\n",
    "print(\"Age :\",person.age)\n"
   ]
  },
  {
   "cell_type": "markdown",
   "id": "dca4a8e1",
   "metadata": {},
   "source": [
    "#### 4. Why self is used in OOPs?"
   ]
  },
  {
   "cell_type": "markdown",
   "id": "462e78ed",
   "metadata": {},
   "source": [
    "In object-oriented programming (OOP), `self` is a reference to the current instance of the class. It is used to access the attributes and methods of the current object."
   ]
  },
  {
   "cell_type": "markdown",
   "id": "f9c90941",
   "metadata": {},
   "source": [
    "In Python, the self parameter is a convention that is used in the methods of a class to refer to the instance of the class on which the method is called. \n",
    "\n",
    "When you create an instance of a class and call a method on it, the instance is automatically passed to the method as the first argument, and the self parameter is used to refer to that instance within the method."
   ]
  },
  {
   "cell_type": "markdown",
   "id": "42f10269",
   "metadata": {},
   "source": [
    "#### 5. What is inheritance? Give an example for each type of inheritance."
   ]
  },
  {
   "cell_type": "markdown",
   "id": "5226c73c",
   "metadata": {},
   "source": [
    "Inheritance is a mechanism in object-oriented programming (OOP) that allows you to create a new class based on an existing class. \n",
    "\n",
    "The new class is called a subclass or derived class, and the existing class is called the base class or parent class. The subclass inherits the attributes and behaviors of the parent class, and can also add new attributes and behaviors or override existing ones."
   ]
  },
  {
   "cell_type": "markdown",
   "id": "5b7bd51f",
   "metadata": {},
   "source": [
    "There are several types of inheritance in OOP:"
   ]
  },
  {
   "cell_type": "markdown",
   "id": "a0aecdc0",
   "metadata": {},
   "source": [
    "###### 1.Single Inheritance: \n",
    "\n",
    "A subclass inherits the attributes and behaviors of a single parent class. This is the most basic form of inheritance."
   ]
  },
  {
   "cell_type": "code",
   "execution_count": 3,
   "id": "da9abed7",
   "metadata": {},
   "outputs": [],
   "source": [
    "class Animal:\n",
    "    def __init__(self, species):\n",
    "        self.species = species\n",
    "\n",
    "    def make_sound(self):\n",
    "        print(\"Some generic animal sound\")\n",
    "\n",
    "class Dog(Animal):\n",
    "    def make_sound(self):\n",
    "        print(\"Woof woof\")"
   ]
  },
  {
   "cell_type": "code",
   "execution_count": 4,
   "id": "5bb6b0ca",
   "metadata": {},
   "outputs": [
    {
     "name": "stdout",
     "output_type": "stream",
     "text": [
      "Woof woof\n"
     ]
    }
   ],
   "source": [
    "dog = Dog(\"Canis lupus familiaris\")\n",
    "dog.make_sound()"
   ]
  },
  {
   "cell_type": "markdown",
   "id": "9c082aa3",
   "metadata": {},
   "source": [
    "##### 2. Multiple Inheritance: \n",
    "\n",
    "A subclass inherits the attributes and behaviors of multiple parent classes. This type of inheritance is less common, as it can lead to ambiguity and the \"diamond problem\" if not used carefully."
   ]
  },
  {
   "cell_type": "code",
   "execution_count": 5,
   "id": "4c805078",
   "metadata": {},
   "outputs": [],
   "source": [
    "class Person:\n",
    "    def __init__(self, name, age):\n",
    "        self.name = name\n",
    "        self.age = age\n",
    "\n",
    "class Employee:\n",
    "    def __init__(self, employee_id, salary):\n",
    "        self.employee_id = employee_id\n",
    "        self.salary = salary\n",
    "\n",
    "class Manager(Person, Employee):\n",
    "    def __init__(self, name, age, employee_id, salary):\n",
    "        Person.__init__(self, name, age)\n",
    "        Employee.__init__(self, employee_id, salary)"
   ]
  },
  {
   "cell_type": "code",
   "execution_count": 6,
   "id": "2386d321",
   "metadata": {},
   "outputs": [
    {
     "name": "stdout",
     "output_type": "stream",
     "text": [
      "RMS\n",
      "20\n",
      "123\n",
      "100000\n"
     ]
    }
   ],
   "source": [
    "manager = Manager(\"RMS\", 20, 123, 100000)\n",
    "print(manager.name)    \n",
    "print(manager.age) \n",
    "print(manager.employee_id)\n",
    "print(manager.salary)     "
   ]
  },
  {
   "cell_type": "markdown",
   "id": "1fd38f28",
   "metadata": {},
   "source": [
    "##### 3. Multi-level Inheritance: \n",
    "\n",
    "A subclass inherits the attributes and behaviors of a parent class, which in turn inherits from another parent class. This type of inheritance creates a hierarchy of classes, with each subclass inheriting from its parent class."
   ]
  },
  {
   "cell_type": "code",
   "execution_count": 7,
   "id": "20125f1d",
   "metadata": {},
   "outputs": [],
   "source": [
    "class Animal:\n",
    "    def __init__(self, species):\n",
    "        self.species = species\n",
    "\n",
    "class Mammal(Animal):\n",
    "    def __init__(self, species, number_of_legs):\n",
    "        Animal.__init__(self, species)\n",
    "        self.number_of_legs = number_of_legs\n",
    "\n",
    "class Dog(Mammal):\n",
    "    def __init__(self, breed):\n",
    "        Mammal.__init__(self, \"Canis lupus familiaris\", 4)\n",
    "        self.breed = breed"
   ]
  },
  {
   "cell_type": "code",
   "execution_count": 8,
   "id": "a5e60403",
   "metadata": {},
   "outputs": [
    {
     "name": "stdout",
     "output_type": "stream",
     "text": [
      "Canis lupus familiaris\n",
      "4\n",
      "Labrador Retriever\n"
     ]
    }
   ],
   "source": [
    "dog = Dog(\"Labrador Retriever\")\n",
    "print(dog.species)\n",
    "print(dog.number_of_legs) \n",
    "print(dog.breed) "
   ]
  },
  {
   "cell_type": "markdown",
   "id": "aa0564c2",
   "metadata": {},
   "source": [
    "##### 4. Hierarchical Inheritance: \n",
    "\n",
    "In this type of inheritance, one class serves as a base class for more than one subclass. This means that a single base class is inherited by multiple subclasses."
   ]
  },
  {
   "cell_type": "code",
   "execution_count": 9,
   "id": "52d96c87",
   "metadata": {},
   "outputs": [],
   "source": [
    "class Animal:\n",
    "    def __init__(self, species):\n",
    "        self.species = species\n",
    "\n",
    "class Mammal(Animal):\n",
    "    def __init__(self, species, number_of_legs):\n",
    "        Animal.__init__(self, species)\n",
    "        self.number_of_legs = number_of_legs\n",
    "\n",
    "class Fish(Animal):\n",
    "    def __init__(self, species, number_of_fins):\n",
    "        Animal.__init__(self, species)\n",
    "        self.number_of_fins = number_of_fins"
   ]
  },
  {
   "cell_type": "code",
   "execution_count": 10,
   "id": "cf0de3c2",
   "metadata": {},
   "outputs": [
    {
     "name": "stdout",
     "output_type": "stream",
     "text": [
      "Canis lupus familiaris\n",
      "4\n",
      "Thunnus\n",
      "2\n"
     ]
    }
   ],
   "source": [
    "dog = Mammal(\"Canis lupus familiaris\", 4)\n",
    "print(dog.species)      \n",
    "print(dog.number_of_legs)\n",
    "\n",
    "tuna = Fish(\"Thunnus\", 2)\n",
    "print(tuna.species)   \n",
    "print(tuna.number_of_fins) "
   ]
  },
  {
   "cell_type": "markdown",
   "id": "28141d94",
   "metadata": {},
   "source": [
    "##### 5. Hybrid Inheritance: \n",
    "\n",
    "Hybrid Inheritance is a combination of two or more types of inheritance. This type of inheritance can be achieved by combining the features of more than one type of inheritance."
   ]
  },
  {
   "cell_type": "code",
   "execution_count": 11,
   "id": "5c3fd5ee",
   "metadata": {},
   "outputs": [],
   "source": [
    "class Animal:\n",
    "    def __init__(self, species):\n",
    "        self.species = species\n",
    "\n",
    "class Mammal(Animal):\n",
    "    def __init__(self, species, number_of_legs):\n",
    "        Animal.__init__(self, species)\n",
    "        self.number_of_legs = number_of_legs\n",
    "\n",
    "class FlyingMammal(Mammal):\n",
    "    def __init__(self, species, number_of_legs, wingspan):\n",
    "        Mammal.__init__(self, species, number_of_legs)\n",
    "        self.wingspan = wingspan\n",
    "\n",
    "class Bat(FlyingMammal, Animal):\n",
    "    def __init__(self, species, wingspan):\n",
    "        FlyingMammal.__init__(self, species, 2, wingspan)"
   ]
  },
  {
   "cell_type": "code",
   "execution_count": 12,
   "id": "a353e54c",
   "metadata": {},
   "outputs": [
    {
     "name": "stdout",
     "output_type": "stream",
     "text": [
      "Pteropus\n",
      "2\n",
      "0.5\n"
     ]
    }
   ],
   "source": [
    "bat = Bat(\"Pteropus\", 0.5)\n",
    "print(bat.species)  \n",
    "print(bat.number_of_legs)\n",
    "print(bat.wingspan)  "
   ]
  }
 ],
 "metadata": {
  "kernelspec": {
   "display_name": "Python 3 (ipykernel)",
   "language": "python",
   "name": "python3"
  },
  "language_info": {
   "codemirror_mode": {
    "name": "ipython",
    "version": 3
   },
   "file_extension": ".py",
   "mimetype": "text/x-python",
   "name": "python",
   "nbconvert_exporter": "python",
   "pygments_lexer": "ipython3",
   "version": "3.9.12"
  }
 },
 "nbformat": 4,
 "nbformat_minor": 5
}
