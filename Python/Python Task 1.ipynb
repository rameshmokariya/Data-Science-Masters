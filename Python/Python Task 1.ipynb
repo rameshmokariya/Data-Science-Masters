{
 "cells": [
  {
   "cell_type": "markdown",
   "id": "ad4dbc77",
   "metadata": {},
   "source": [
    "## Python Task 1"
   ]
  },
  {
   "cell_type": "markdown",
   "id": "d892d38b",
   "metadata": {},
   "source": [
    "#### 1. Create a function which will take a list as an argument and return the product of all the numbers after creating a flat list.\n",
    "Use the below-given list as an argument for your function."
   ]
  },
  {
   "cell_type": "code",
   "execution_count": 1,
   "id": "46ff2c0a",
   "metadata": {},
   "outputs": [],
   "source": [
    "list1 = [1,2,3,4, [44,55,66, True], False, (34,56,78,89,34), {1,2,3,3,2,1}, {1:34, \"key2\": [55, 67, 78, 89], 4: (45,\n",
    "22, 61, 34)}, [56, 'data science'], 'Machine Learning']"
   ]
  },
  {
   "cell_type": "markdown",
   "id": "dc179a55",
   "metadata": {},
   "source": [
    "Note: you must extract numeric keys and values of the dictionary also."
   ]
  },
  {
   "cell_type": "code",
   "execution_count": 2,
   "id": "f23c26b5",
   "metadata": {},
   "outputs": [
    {
     "name": "stdout",
     "output_type": "stream",
     "text": [
      "[1, 2, 3, 4, [44, 55, 66, True], False, (34, 56, 78, 89, 34), {1, 2, 3}, {1: 34, 'key2': [55, 67, 78, 89], 4: (45, 22, 61, 34)}, [56, 'data science'], 'Machine Learning']\n"
     ]
    }
   ],
   "source": [
    "print(list1)"
   ]
  },
  {
   "cell_type": "code",
   "execution_count": 3,
   "id": "e19c2acc",
   "metadata": {},
   "outputs": [],
   "source": [
    "def flat_list(a):\n",
    "    product = 1\n",
    "    for i in a:\n",
    "        if type(i) == int or type(i) == float:\n",
    "            product = product*i\n",
    "        elif type(i) == set:\n",
    "            for j in i:\n",
    "                if type(j) == int or type(j) == float:\n",
    "                    product = product*j\n",
    "        elif type(i) == list or type(i) == tuple:\n",
    "            for j in i:\n",
    "                if type(j) == int or type(j) == float:\n",
    "                    product = product*j\n",
    "        elif type(i) == dict:\n",
    "            for key, value in i.items():\n",
    "                if isinstance(key, int) or isinstance(key, float):\n",
    "                    product *= key\n",
    "                if isinstance(key, list):\n",
    "                    for j in key:\n",
    "                        if type(j) == int or type(j) == float:\n",
    "                            product *= j\n",
    "                if isinstance(value, int) or isinstance(value, float):\n",
    "                    product *= value\n",
    "                if isinstance(value, tuple) or isinstance(value, list):\n",
    "                    for j in value:\n",
    "                        if type(j) == int or type(j) == float:\n",
    "                            product *= j\n",
    "    return product               "
   ]
  },
  {
   "cell_type": "code",
   "execution_count": 4,
   "id": "da27015f",
   "metadata": {},
   "outputs": [
    {
     "data": {
      "text/plain": [
       "4134711838987085478833841242112000"
      ]
     },
     "execution_count": 4,
     "metadata": {},
     "output_type": "execute_result"
    }
   ],
   "source": [
    "flat_list(list1)"
   ]
  },
  {
   "cell_type": "markdown",
   "id": "a6a95712",
   "metadata": {},
   "source": [
    "#### 2. Write a python program for encrypting a message sent to you by your friend. The logic of encryption should be such that, for a the output should be z. For b, the output should be y. For c, the output should be x respectively. Also, the whitespace should be replaced with a dollar sign. Keep the punctuation marks unchanged."
   ]
  },
  {
   "cell_type": "markdown",
   "id": "6fc13cdd",
   "metadata": {},
   "source": [
    "Input Sentence: I want to become a Data Scientist.\n",
    "Encrypt the above input sentence using the program you just created."
   ]
  },
  {
   "cell_type": "markdown",
   "id": "e7d1e32d",
   "metadata": {},
   "source": [
    "Note: Convert the given input sentence into lowercase before encrypting. The final output should be\n",
    "lowercase."
   ]
  },
  {
   "cell_type": "code",
   "execution_count": 5,
   "id": "f73c3118",
   "metadata": {},
   "outputs": [],
   "source": [
    "def encrypt(message):\n",
    "    # Convert message to lowercase\n",
    "    message = message.lower()\n",
    "    # Define the encryption mapping\n",
    "    mapping = str.maketrans(' abcdefghijklmnopqrstuvwxyz', '$zyxwvutsrqponmlkjihgfedcba')\n",
    "    # Apply the encryption mapping\n",
    "    encrypted_message = message.translate(mapping)\n",
    "    return encrypted_message"
   ]
  },
  {
   "cell_type": "code",
   "execution_count": 6,
   "id": "d873e668",
   "metadata": {},
   "outputs": [
    {
     "name": "stdout",
     "output_type": "stream",
     "text": [
      "r$dzmg$gl$yvxlnv$z$wzgz$hxrvmgrhg.\n"
     ]
    }
   ],
   "source": [
    "input_sentence = 'I want to become a Data Scientist.'\n",
    "encrypted_sentence = encrypt(input_sentence)\n",
    "print(encrypted_sentence)"
   ]
  },
  {
   "cell_type": "code",
   "execution_count": 7,
   "id": "99b8a0a9",
   "metadata": {},
   "outputs": [],
   "source": [
    "#EXTRAS\n",
    "\n",
    "def Decrypt(message):\n",
    "    # Define the decryption mapping\n",
    "    mapping = str.maketrans('$zyxwvutsrqponmlkjihgfedcba',' abcdefghijklmnopqrstuvwxyz')\n",
    "    # Apply the decryption mapping\n",
    "    decryption_message = message.translate(mapping)\n",
    "    # Convert message to uppercase\n",
    "    decryption_message = decryption_message.upper()\n",
    "    return decryption_message"
   ]
  },
  {
   "cell_type": "code",
   "execution_count": 8,
   "id": "b9fdfa18",
   "metadata": {},
   "outputs": [
    {
     "name": "stdout",
     "output_type": "stream",
     "text": [
      "HEY, MY NAME IS RMS\n"
     ]
    }
   ],
   "source": [
    "input_sentence = \"svb,$nb$mznv$rh$inh\"\n",
    "decrypted_sentence = Decrypt(input_sentence)\n",
    "print(decrypted_sentence)"
   ]
  }
 ],
 "metadata": {
  "kernelspec": {
   "display_name": "Python 3 (ipykernel)",
   "language": "python",
   "name": "python3"
  },
  "language_info": {
   "codemirror_mode": {
    "name": "ipython",
    "version": 3
   },
   "file_extension": ".py",
   "mimetype": "text/x-python",
   "name": "python",
   "nbconvert_exporter": "python",
   "pygments_lexer": "ipython3",
   "version": "3.9.12"
  }
 },
 "nbformat": 4,
 "nbformat_minor": 5
}
