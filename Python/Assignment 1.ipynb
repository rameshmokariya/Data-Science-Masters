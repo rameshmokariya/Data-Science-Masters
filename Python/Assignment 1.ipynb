{
 "cells": [
  {
   "cell_type": "markdown",
   "id": "0eefd9f6",
   "metadata": {},
   "source": [
    "## Python Assignment 1"
   ]
  },
  {
   "cell_type": "markdown",
   "id": "12d77778",
   "metadata": {},
   "source": [
    "#### 1. Who developed python Programming Language?\n",
    "Guido van Rossum developed the Python programming language in 1991."
   ]
  },
  {
   "cell_type": "markdown",
   "id": "50c987d6",
   "metadata": {},
   "source": [
    "#### 2. Which type of programming does python support?\n",
    "Python supports multiple programming paradigms, including object-oriented, procedural, and functional programming."
   ]
  },
  {
   "cell_type": "markdown",
   "id": "a49bbdb3",
   "metadata": {},
   "source": [
    "#### 3. Is python case sensitive when dealing with identifiers?\n",
    "Yes, Python is case sensitive when it comes to handling variables, functions, and classes."
   ]
  },
  {
   "cell_type": "markdown",
   "id": "46c1beb0",
   "metadata": {},
   "source": [
    "#### 4. What is the correct extension of the python file? \n",
    "The correct extension of a Python file is .py"
   ]
  },
  {
   "cell_type": "markdown",
   "id": "03ef51c7",
   "metadata": {},
   "source": [
    "#### 5. Is python code compiled or interpreted?\n",
    "Python is an interpreted language, not a compiled one."
   ]
  },
  {
   "cell_type": "markdown",
   "id": "6b323a79",
   "metadata": {},
   "source": [
    "#### 6. Name a few blocks of code used to define in python language?\n",
    "A few blocks of code in Python are defined using indentation."
   ]
  },
  {
   "cell_type": "markdown",
   "id": "e8066073",
   "metadata": {},
   "source": [
    "#### 7. State a character used to give single—line comments in python?\n",
    "In Python, the hash symbol (#) is used to give single-line comments."
   ]
  },
  {
   "cell_type": "markdown",
   "id": "f3494ee9",
   "metadata": {},
   "source": [
    "#### 8. Mention functions which can help us to find the version of python that we are currently working on?\n",
    "The sys module provides a function sys.version to find the version of Python that is currently being used."
   ]
  },
  {
   "cell_type": "markdown",
   "id": "8b8bf99b",
   "metadata": {},
   "source": [
    "#### 9. python supports the creation of anonymous functions at runtime, using a construct called \n",
    "lambda."
   ]
  },
  {
   "cell_type": "markdown",
   "id": "fabde75c",
   "metadata": {},
   "source": [
    "#### 10. What does pip s tand for python?\n",
    "Pip stands for \"Pip Installs Packages.\""
   ]
  },
  {
   "cell_type": "markdown",
   "id": "82bdeea9",
   "metadata": {},
   "source": [
    "#### 11. Mention a few built—in functions in python?\n",
    "A few built-in functions in Python include print(), len(), range(), and sum()."
   ]
  },
  {
   "cell_type": "markdown",
   "id": "abf4e032",
   "metadata": {},
   "source": [
    "#### 12. What is the maximum possible length of an identifier in Python?\n",
    "The maximum possible length of an identifier in Python is unlimited."
   ]
  },
  {
   "cell_type": "markdown",
   "id": "722a9222",
   "metadata": {},
   "source": [
    "#### 13. What are the benefits of using Python?\n",
    "Some benefits of using Python include its readability, versatility, and ease of use."
   ]
  },
  {
   "cell_type": "markdown",
   "id": "845ddd16",
   "metadata": {},
   "source": [
    "#### 14. How is memory managed in Python?\n",
    "Python uses a garbage collector to automatically manage memory."
   ]
  },
  {
   "cell_type": "markdown",
   "id": "2fdba181",
   "metadata": {},
   "source": [
    "#### 15. How to install Python on Windows and set path variables?\n",
    "To install Python on Windows and set the path variables, you can download the latest version of Python from the official website and follow the instructions provided in the installation wizard."
   ]
  },
  {
   "cell_type": "markdown",
   "id": "2d317cf6",
   "metadata": {},
   "source": [
    "#### 16. Is indentation required in python?\n",
    "Yes, indentation is required in Python to define code blocks, and incorrect indentation can result in errors."
   ]
  }
 ],
 "metadata": {
  "kernelspec": {
   "display_name": "Python 3 (ipykernel)",
   "language": "python",
   "name": "python3"
  },
  "language_info": {
   "codemirror_mode": {
    "name": "ipython",
    "version": 3
   },
   "file_extension": ".py",
   "mimetype": "text/x-python",
   "name": "python",
   "nbconvert_exporter": "python",
   "pygments_lexer": "ipython3",
   "version": "3.9.12"
  }
 },
 "nbformat": 4,
 "nbformat_minor": 5
}
