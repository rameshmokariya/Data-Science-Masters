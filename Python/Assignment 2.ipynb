{
 "cells": [
  {
   "cell_type": "markdown",
   "id": "7995e785",
   "metadata": {},
   "source": [
    "## Assignment 2"
   ]
  },
  {
   "cell_type": "markdown",
   "id": "275373d9",
   "metadata": {},
   "source": [
    "#### 1. Write a programme to accept percentage from the user and display the grade according to tha following criteria:\n",
    "\n",
    "| Marks | Grade |\n",
    "|:--------:|:--------:|\n",
    "| >90   | A  |\n",
    "| >80 and <=90   | B   |\n",
    "| >60 and <=80   | C  |\n",
    "| below 60   | D  |"
   ]
  },
  {
   "cell_type": "code",
   "execution_count": 1,
   "id": "a47d24c5",
   "metadata": {},
   "outputs": [
    {
     "name": "stdout",
     "output_type": "stream",
     "text": [
      "Enter Your Percentage: 95\n",
      "Grade: A\n"
     ]
    }
   ],
   "source": [
    "Marks = int(input(\"Enter Your Percentage: \"))\n",
    "\n",
    "if Marks > 90:\n",
    "    print(\"Grade: A\")\n",
    "elif Marks > 80 and marks <= 90:\n",
    "    print(\"Grade: B\")\n",
    "elif Marks > 60 and marks <= 80:\n",
    "    print(\"Grade: C\")\n",
    "else:\n",
    "    print(\"Grade: D\")\n"
   ]
  },
  {
   "cell_type": "markdown",
   "id": "39f986e3",
   "metadata": {},
   "source": [
    "#### 2. Write a programme to accept percentage from the user and display the grade according to tha following criteria:\n",
    "\n",
    "| Tax | Cost Price (in Rs) |\n",
    "|:--------:|:--------:|\n",
    "| 15%  | >100000  |\n",
    "| 10%   | > = 50000 and <= 100000   |\n",
    "| 5%  | <= 50000  |\n"
   ]
  },
  {
   "cell_type": "code",
   "execution_count": 2,
   "id": "37534843",
   "metadata": {},
   "outputs": [
    {
     "name": "stdout",
     "output_type": "stream",
     "text": [
      "Enter the cost price (in Rs): 505\n",
      "Tax: 25.25 Rs\n"
     ]
    }
   ],
   "source": [
    "cost_price = float(input(\"Enter the cost price (in Rs): \"))\n",
    "\n",
    "if cost_price > 100000:\n",
    "    tax = cost_price * 0.15\n",
    "    print(\"Tax:\", tax, \"Rs\")\n",
    "elif cost_price >= 50000 and cost_price <= 100000:\n",
    "    tax = cost_price * 0.10\n",
    "    print(\"Tax:\", tax, \"Rs\")\n",
    "else:\n",
    "    tax = cost_price * 0.05\n",
    "    print(\"Tax:\", tax, \"Rs\")\n"
   ]
  },
  {
   "cell_type": "markdown",
   "id": "5691ff09",
   "metadata": {},
   "source": [
    "#### 3. Accept any City from the user and display monuments of that city.\n",
    "| City | Monument |\n",
    "|:--------:|:--------:|\n",
    "| Delhi  | Red Fort  |\n",
    "| Agra   | Taj Mahal   |\n",
    "| Jaipur  | Jal Mahal  |"
   ]
  },
  {
   "cell_type": "code",
   "execution_count": 3,
   "id": "3bf66bf0",
   "metadata": {},
   "outputs": [
    {
     "name": "stdout",
     "output_type": "stream",
     "text": [
      "Enter a city: Ahmedabad\n",
      "No monument found for the Ahmedabad city.\n"
     ]
    }
   ],
   "source": [
    "city = input(\"Enter a city: \")\n",
    "\n",
    "if city == \"Delhi\":\n",
    "    print(\"Monument: Red Fort\")\n",
    "elif city == \"Agra\":\n",
    "    print(\"Monument: Taj Mahal\")\n",
    "elif city == \"Jaipur\":\n",
    "    print(\"Monument: Jal Mahal\")\n",
    "else:\n",
    "    print(\"No monument found for the {} city.\".format(city))\n"
   ]
  },
  {
   "cell_type": "markdown",
   "id": "53fd2afe",
   "metadata": {},
   "source": [
    "#### 4. Check how many times a given number can be divided by 3 before it is less than or equal to 10"
   ]
  },
  {
   "cell_type": "code",
   "execution_count": 4,
   "id": "38cb6802",
   "metadata": {},
   "outputs": [
    {
     "name": "stdout",
     "output_type": "stream",
     "text": [
      "Enter a number: 510\n",
      "The number can be divided by 3 4 times before it becomes less than or equal to 10.\n"
     ]
    }
   ],
   "source": [
    "num = int(input(\"Enter a number: \"))\n",
    "\n",
    "counter = 0\n",
    "while num > 10:\n",
    "    num = num / 3\n",
    "    counter += 1\n",
    "\n",
    "print(\"The number can be divided by 3\", counter, \"times before it becomes less than or equal to 10.\")"
   ]
  },
  {
   "cell_type": "markdown",
   "id": "94243b65",
   "metadata": {},
   "source": [
    "#### 5. Why and When to use While Loop in Python give a detailed description with example"
   ]
  },
  {
   "cell_type": "markdown",
   "id": "ad6e8789",
   "metadata": {},
   "source": [
    "The while loop in Python is used when you want to repeat a block of code as long as a certain condition is met."
   ]
  },
  {
   "cell_type": "code",
   "execution_count": 5,
   "id": "9147a1d5",
   "metadata": {},
   "outputs": [
    {
     "name": "stdout",
     "output_type": "stream",
     "text": [
      "The num is 0\n",
      "The num is 1\n",
      "The num is 2\n",
      "The num is 3\n",
      "The num is 4\n"
     ]
    }
   ],
   "source": [
    "num = 0\n",
    "while num < 5:\n",
    "    print(\"The num is\", num)\n",
    "    num = num + 1"
   ]
  },
  {
   "cell_type": "markdown",
   "id": "2f1d1616",
   "metadata": {},
   "source": [
    "#### 6. Use Nested while Loop print 3 different Pattern."
   ]
  },
  {
   "cell_type": "code",
   "execution_count": 6,
   "id": "2e67252d",
   "metadata": {},
   "outputs": [
    {
     "name": "stdout",
     "output_type": "stream",
     "text": [
      "* \n",
      "* * \n",
      "* * * \n",
      "* * * * \n",
      "* * * * * \n"
     ]
    }
   ],
   "source": [
    "# Pattern 1\n",
    "row = 1\n",
    "while row <= 5:\n",
    "    col = 1\n",
    "    while col <= row:\n",
    "        print(\"*\", end=\" \")\n",
    "        col += 1\n",
    "    print(\"\")\n",
    "    row += 1"
   ]
  },
  {
   "cell_type": "code",
   "execution_count": 7,
   "id": "83d57c78",
   "metadata": {},
   "outputs": [
    {
     "name": "stdout",
     "output_type": "stream",
     "text": [
      "          \n",
      "        * \n",
      "      * * * \n",
      "    * * * * * \n",
      "  * * * * * * * \n",
      "* * * * * * * * * \n"
     ]
    }
   ],
   "source": [
    "# Pattern 2\n",
    "row = 5\n",
    "for i in range(row+1):\n",
    "    print(\"  \"*(row-i)+\"* \"*(2*i-1))"
   ]
  },
  {
   "cell_type": "code",
   "execution_count": 8,
   "id": "be93e4d9",
   "metadata": {},
   "outputs": [
    {
     "name": "stdout",
     "output_type": "stream",
     "text": [
      "* * * * * \n",
      "* * * * \n",
      "* * * \n",
      "* * \n",
      "* \n"
     ]
    }
   ],
   "source": [
    "# Pattern 3\n",
    "row = 5\n",
    "while row >= 1:\n",
    "    col = 1\n",
    "    while col <= row:\n",
    "        print(\"*\", end=\" \")\n",
    "        col += 1\n",
    "    print(\"\")\n",
    "    row -= 1"
   ]
  },
  {
   "cell_type": "markdown",
   "id": "92f57117",
   "metadata": {},
   "source": [
    "#### 7. Reverse a While Loop to Display numbers from 10 to 1."
   ]
  },
  {
   "cell_type": "code",
   "execution_count": 9,
   "id": "d7e910e8",
   "metadata": {},
   "outputs": [
    {
     "name": "stdout",
     "output_type": "stream",
     "text": [
      "10\n",
      "9\n",
      "8\n",
      "7\n",
      "6\n",
      "5\n",
      "4\n",
      "3\n",
      "2\n",
      "1\n"
     ]
    }
   ],
   "source": [
    "num = 10\n",
    "while num >= 1:\n",
    "    print(num)\n",
    "    num -= 1"
   ]
  },
  {
   "cell_type": "markdown",
   "id": "efbb7389",
   "metadata": {},
   "source": [
    "#### 8. Reverse a While Loop to Display numbers from 10 to 1."
   ]
  },
  {
   "cell_type": "code",
   "execution_count": 10,
   "id": "8744f5f5",
   "metadata": {},
   "outputs": [
    {
     "name": "stdout",
     "output_type": "stream",
     "text": [
      "10\n",
      "9\n",
      "8\n",
      "7\n",
      "6\n",
      "5\n",
      "4\n",
      "3\n",
      "2\n",
      "1\n"
     ]
    }
   ],
   "source": [
    "num = 10\n",
    "while num >= 1:\n",
    "    print(num)\n",
    "    num -= 1"
   ]
  }
 ],
 "metadata": {
  "kernelspec": {
   "display_name": "Python 3 (ipykernel)",
   "language": "python",
   "name": "python3"
  },
  "language_info": {
   "codemirror_mode": {
    "name": "ipython",
    "version": 3
   },
   "file_extension": ".py",
   "mimetype": "text/x-python",
   "name": "python",
   "nbconvert_exporter": "python",
   "pygments_lexer": "ipython3",
   "version": "3.9.12"
  }
 },
 "nbformat": 4,
 "nbformat_minor": 5
}
