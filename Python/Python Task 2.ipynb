{
 "cells": [
  {
   "cell_type": "markdown",
   "id": "061c9ec8",
   "metadata": {},
   "source": [
    "## Python Task 2"
   ]
  },
  {
   "cell_type": "markdown",
   "id": "7c94928d",
   "metadata": {},
   "source": [
    "#### 1. You are writing code for a company. The requirement of the company is that you create a python function that will check whether the password entered by the user is correct or not. The function should take the password as input and return the string “Valid Password” if the entered password follows the below-given password guidelines else it should return “Invalid Password”.\n"
   ]
  },
  {
   "cell_type": "markdown",
   "id": "34929b4c",
   "metadata": {},
   "source": [
    "Note: \n",
    "1. The Password should contain at least two uppercase letters and at least two lowercase letters.\n",
    "2. The Password should contain at least a number and three special characters.\n",
    "3. The length of the password should be 10 characters long."
   ]
  },
  {
   "cell_type": "code",
   "execution_count": 1,
   "id": "cc6d8dc7",
   "metadata": {},
   "outputs": [],
   "source": [
    "def pass_validator():\n",
    "    password = str(input(\"Enter Your Password: \"))\n",
    "    lcount = 0\n",
    "    ucount = 0\n",
    "    dcount = 0\n",
    "    scount = 0\n",
    "    wcount = 0\n",
    "    for char in password:\n",
    "        if char.islower():\n",
    "            lcount += 1\n",
    "    for char in password:\n",
    "        if char.isupper():\n",
    "            ucount += 1\n",
    "    for char in password:\n",
    "        if char.isdigit():\n",
    "            dcount += 1\n",
    "    for char in password:\n",
    "        if not char.isalpha() and not char.isdigit():\n",
    "            scount += 1\n",
    "    for char in password:\n",
    "        if char.isspace():\n",
    "            wcount += 1\n",
    "    if len(password) >= 10 and ucount >=2 and lcount >= 2 and dcount >= 1 and scount >=3 and wcount == 0:\n",
    "        print(\"Valid Password\")\n",
    "    else:\n",
    "        print(\"Invalid Password\")"
   ]
  },
  {
   "cell_type": "code",
   "execution_count": 2,
   "id": "90d8897e",
   "metadata": {},
   "outputs": [
    {
     "name": "stdout",
     "output_type": "stream",
     "text": [
      "Enter Your Password: PW$ki!!s510\n",
      "Valid Password\n"
     ]
    }
   ],
   "source": [
    "pass_validator()"
   ]
  },
  {
   "cell_type": "markdown",
   "id": "f805da61",
   "metadata": {},
   "source": [
    "#### 2. Solve the below-given questions using at least one of the following:\n",
    "1. Lambda function\n",
    "2. Filter function\n",
    "3. Zip function\n",
    "4. List Comprehension"
   ]
  },
  {
   "cell_type": "markdown",
   "id": "d1b3bf33",
   "metadata": {},
   "source": [
    "1. Check if the string starts with a particular letter."
   ]
  },
  {
   "cell_type": "code",
   "execution_count": 3,
   "id": "0f6e3ab5",
   "metadata": {},
   "outputs": [],
   "source": [
    "start_with_s = lambda s : s.startswith(\"s\")"
   ]
  },
  {
   "cell_type": "code",
   "execution_count": 4,
   "id": "c2fc79f2",
   "metadata": {},
   "outputs": [
    {
     "data": {
      "text/plain": [
       "False"
      ]
     },
     "execution_count": 4,
     "metadata": {},
     "output_type": "execute_result"
    }
   ],
   "source": [
    "start_with_s(\"rms\")"
   ]
  },
  {
   "cell_type": "code",
   "execution_count": 5,
   "id": "518b0458",
   "metadata": {},
   "outputs": [
    {
     "data": {
      "text/plain": [
       "True"
      ]
     },
     "execution_count": 5,
     "metadata": {},
     "output_type": "execute_result"
    }
   ],
   "source": [
    "start_with_s(\"super\")"
   ]
  },
  {
   "cell_type": "markdown",
   "id": "905938e9",
   "metadata": {},
   "source": [
    "2. Check if the string is numeric."
   ]
  },
  {
   "cell_type": "code",
   "execution_count": 6,
   "id": "e8a799d6",
   "metadata": {},
   "outputs": [],
   "source": [
    "is_numeric = lambda n : n.isnumeric()"
   ]
  },
  {
   "cell_type": "code",
   "execution_count": 7,
   "id": "56287b4f",
   "metadata": {},
   "outputs": [
    {
     "data": {
      "text/plain": [
       "True"
      ]
     },
     "execution_count": 7,
     "metadata": {},
     "output_type": "execute_result"
    }
   ],
   "source": [
    "is_numeric('55')"
   ]
  },
  {
   "cell_type": "code",
   "execution_count": 8,
   "id": "0619e8e0",
   "metadata": {},
   "outputs": [
    {
     "data": {
      "text/plain": [
       "False"
      ]
     },
     "execution_count": 8,
     "metadata": {},
     "output_type": "execute_result"
    }
   ],
   "source": [
    "is_numeric(\"RMS\")"
   ]
  },
  {
   "cell_type": "markdown",
   "id": "c4964294",
   "metadata": {},
   "source": [
    "3. Sort a list of tuples having fruit names and their quantity. [(\"mango\",99),(\"orange\",80), (\"grapes\", 1000)]"
   ]
  },
  {
   "cell_type": "code",
   "execution_count": 9,
   "id": "747405e3",
   "metadata": {},
   "outputs": [
    {
     "name": "stdout",
     "output_type": "stream",
     "text": [
      "[('grapes', 1000), ('mango', 99), ('orange', 80)]\n"
     ]
    }
   ],
   "source": [
    "fruit_list = [(\"mango\",99),(\"orange\",80), (\"grapes\", 1000)]\n",
    "\n",
    "sorted_fruit_list = sorted(fruit_list, key=lambda x: x[1],reverse=True)\n",
    "\n",
    "print(sorted_fruit_list)"
   ]
  },
  {
   "cell_type": "markdown",
   "id": "ba097e1b",
   "metadata": {},
   "source": [
    "4. Find the squares of numbers from 1 to 10."
   ]
  },
  {
   "cell_type": "code",
   "execution_count": 10,
   "id": "79100389",
   "metadata": {},
   "outputs": [],
   "source": [
    "square = [i**2 for i in range(1,11)]"
   ]
  },
  {
   "cell_type": "code",
   "execution_count": 11,
   "id": "db1bcdb4",
   "metadata": {},
   "outputs": [
    {
     "data": {
      "text/plain": [
       "[1, 4, 9, 16, 25, 36, 49, 64, 81, 100]"
      ]
     },
     "execution_count": 11,
     "metadata": {},
     "output_type": "execute_result"
    }
   ],
   "source": [
    "square"
   ]
  },
  {
   "cell_type": "markdown",
   "id": "47097945",
   "metadata": {},
   "source": [
    "5. Find the cube root of numbers from 1 to 10."
   ]
  },
  {
   "cell_type": "code",
   "execution_count": 12,
   "id": "4267f023",
   "metadata": {},
   "outputs": [],
   "source": [
    "import math\n",
    "cube_roots = [round(math.pow(x, 1/3),2) for x in range(1, 11)]"
   ]
  },
  {
   "cell_type": "code",
   "execution_count": 13,
   "id": "52ff3711",
   "metadata": {},
   "outputs": [
    {
     "data": {
      "text/plain": [
       "[1.0, 1.26, 1.44, 1.59, 1.71, 1.82, 1.91, 2.0, 2.08, 2.15]"
      ]
     },
     "execution_count": 13,
     "metadata": {},
     "output_type": "execute_result"
    }
   ],
   "source": [
    "cube_roots"
   ]
  },
  {
   "cell_type": "markdown",
   "id": "754297b4",
   "metadata": {},
   "source": [
    "6. Check if a given number is even."
   ]
  },
  {
   "cell_type": "code",
   "execution_count": 14,
   "id": "63233b0e",
   "metadata": {},
   "outputs": [],
   "source": [
    "def even(a):\n",
    "    if a % 2 == 0:\n",
    "        print(\"Even\")\n",
    "    else:\n",
    "        print(\"Odd\")"
   ]
  },
  {
   "cell_type": "code",
   "execution_count": 15,
   "id": "3a20f5fb",
   "metadata": {},
   "outputs": [
    {
     "name": "stdout",
     "output_type": "stream",
     "text": [
      "Even\n"
     ]
    }
   ],
   "source": [
    "even(6)"
   ]
  },
  {
   "cell_type": "markdown",
   "id": "72176071",
   "metadata": {},
   "source": [
    "7. Filter odd numbers from the given list.\n",
    "[1,2,3,4,5,6,7,8,9,10]"
   ]
  },
  {
   "cell_type": "code",
   "execution_count": 16,
   "id": "27c23fe1",
   "metadata": {},
   "outputs": [],
   "source": [
    "a = [1,2,3,4,5,6,7,8,9,10]\n",
    "\n",
    "filtered = list(filter(lambda i:i%2 !=0,a))"
   ]
  },
  {
   "cell_type": "code",
   "execution_count": 17,
   "id": "4a132746",
   "metadata": {},
   "outputs": [
    {
     "data": {
      "text/plain": [
       "[1, 3, 5, 7, 9]"
      ]
     },
     "execution_count": 17,
     "metadata": {},
     "output_type": "execute_result"
    }
   ],
   "source": [
    "filtered"
   ]
  },
  {
   "cell_type": "markdown",
   "id": "73f26498",
   "metadata": {},
   "source": [
    "8. Sort a list of integers into positive and negative integers lists.\n",
    "[1,2,3,4,5,6,-1,-2,-3,-4,-5,0]"
   ]
  },
  {
   "cell_type": "code",
   "execution_count": 18,
   "id": "98310e61",
   "metadata": {},
   "outputs": [],
   "source": [
    "lst1 = [1,2,3,4,5,6,-1,-2,-3,-4,-5,0]\n",
    "\n",
    "def lst(a):\n",
    "    p_list = []\n",
    "    n_list = []\n",
    "    for i in a:\n",
    "        if i<0:\n",
    "            n_list.append(i)\n",
    "        else:\n",
    "            p_list.append(i)\n",
    "    print(\"n_list --->\",n_list)\n",
    "    print(\"p_list --->\",p_list)\n",
    "    "
   ]
  },
  {
   "cell_type": "code",
   "execution_count": 19,
   "id": "af5a69f4",
   "metadata": {},
   "outputs": [
    {
     "name": "stdout",
     "output_type": "stream",
     "text": [
      "n_list ---> [-1, -2, -3, -4, -5]\n",
      "p_list ---> [1, 2, 3, 4, 5, 6, 0]\n"
     ]
    }
   ],
   "source": [
    "lst(lst1)"
   ]
  }
 ],
 "metadata": {
  "kernelspec": {
   "display_name": "Python 3 (ipykernel)",
   "language": "python",
   "name": "python3"
  },
  "language_info": {
   "codemirror_mode": {
    "name": "ipython",
    "version": 3
   },
   "file_extension": ".py",
   "mimetype": "text/x-python",
   "name": "python",
   "nbconvert_exporter": "python",
   "pygments_lexer": "ipython3",
   "version": "3.9.12"
  }
 },
 "nbformat": 4,
 "nbformat_minor": 5
}
