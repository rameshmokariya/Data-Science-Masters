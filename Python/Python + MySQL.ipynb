{
 "cells": [
  {
   "cell_type": "markdown",
   "id": "043b6574",
   "metadata": {},
   "source": [
    "## MySQL Assignment"
   ]
  },
  {
   "cell_type": "markdown",
   "id": "01c2ba03",
   "metadata": {},
   "source": [
    "#### 1. What is a database? Differentiate between SQL and NoSQL databases."
   ]
  },
  {
   "cell_type": "markdown",
   "id": "bab76de4",
   "metadata": {},
   "source": [
    "A database is a structured collection of data that is organized in a way that allows easy access, management, and updating of the data. It is used to store, retrieve, and manage large amounts of information efficiently."
   ]
  },
  {
   "cell_type": "markdown",
   "id": "1aa32fc7",
   "metadata": {},
   "source": [
    "##### SQL"
   ]
  },
  {
   "cell_type": "markdown",
   "id": "ae45367b",
   "metadata": {},
   "source": [
    "SQL (Structured Query Language) databases are relational databases that store data in tables, which are related to each other through foreign keys. SQL databases are known for their ability to handle complex queries, their strict data consistency, and their support for transactions. Popular SQL databases include MySQL, Oracle, and PostgreSQL."
   ]
  },
  {
   "cell_type": "markdown",
   "id": "8af5cd5f",
   "metadata": {},
   "source": [
    "##### NoSQL"
   ]
  },
  {
   "cell_type": "markdown",
   "id": "0baeb7e2",
   "metadata": {},
   "source": [
    "NoSQL (Not Only SQL) databases, on the other hand, use a different data model than SQL databases. They store data in a flexible, unstructured format, such as key-value pairs or document-based databases. NoSQL databases are often used for large-scale data storage, real-time web applications, and big data processing. Examples of NoSQL databases include MongoDB, Cassandra, and Redis."
   ]
  },
  {
   "cell_type": "markdown",
   "id": "aaa4a406",
   "metadata": {},
   "source": [
    "#### 2. What is DDL? Explain why CREATE, DROP, ALTER, and TRUNCATE are used with an example."
   ]
  },
  {
   "cell_type": "markdown",
   "id": "baed3b32",
   "metadata": {},
   "source": [
    "DDL (Data Definition Language) is a subset of SQL that is used to define and manage the structure of a database. It includes commands for creating, modifying, and deleting database objects such as tables, indexes, and views."
   ]
  },
  {
   "cell_type": "markdown",
   "id": "16986a7d",
   "metadata": {},
   "source": [
    "CREATE is used to create a new table in a database. For example, the following SQL command creates a table named \"employees\":"
   ]
  },
  {
   "cell_type": "code",
   "execution_count": null,
   "id": "f4e19bac-2c68-4767-abc2-2fbc1eab8794",
   "metadata": {},
   "outputs": [],
   "source": [
    "CREATE TABLE employees (\n",
    "id INT PRIMARY KEY,\n",
    "name VARCHAR(50),\n",
    "salary DECIMAL(10, 2)\n",
    ");"
   ]
  },
  {
   "cell_type": "markdown",
   "id": "ca7a2466",
   "metadata": {},
   "source": [
    "DROP is used to delete an existing table from the database. For example, the following SQL command deletes the \"employees\" table:\n"
   ]
  },
  {
   "cell_type": "code",
   "execution_count": null,
   "id": "06e7a709",
   "metadata": {},
   "outputs": [],
   "source": [
    "DROP TABLE employees;"
   ]
  },
  {
   "cell_type": "markdown",
   "id": "f7136e42",
   "metadata": {},
   "source": [
    "ALTER is used to modify an existing table by adding or removing columns, changing column data types, or modifying table constraints. \n",
    "For example, the following SQL command adds a new column named \"department\" to the \"employees\" table:\n"
   ]
  },
  {
   "cell_type": "code",
   "execution_count": null,
   "id": "058b825e",
   "metadata": {},
   "outputs": [],
   "source": [
    "ALTER TABLE employees\n",
    "ADD COLUMN department VARCHAR(50);"
   ]
  },
  {
   "cell_type": "markdown",
   "id": "bbe93fa3",
   "metadata": {},
   "source": [
    "TRUNCATE is used to delete all the data from a table, but the table structure remains intact. For example, the following SQL command deletes all the data from the \"employees\" table:\n"
   ]
  },
  {
   "cell_type": "code",
   "execution_count": null,
   "id": "aa64c88a",
   "metadata": {},
   "outputs": [],
   "source": [
    "TRUNCATE TABLE employees;"
   ]
  },
  {
   "cell_type": "markdown",
   "id": "d7f4ef69",
   "metadata": {},
   "source": [
    "#### 3. What is DML? Explain INSERT, UPDATE, and DELETE with an example."
   ]
  },
  {
   "cell_type": "markdown",
   "id": "a96e1f1b",
   "metadata": {},
   "source": [
    "DML (Data Manipulation Language) is a subset of SQL that is used to manipulate the data in a database. It includes commands for inserting, updating, and deleting data in database tables."
   ]
  },
  {
   "cell_type": "markdown",
   "id": "8a3db71c",
   "metadata": {},
   "source": [
    "INSERT is used to add new rows of data to a table. For example, the following SQL command inserts a new row into the \"employees\" table:\n"
   ]
  },
  {
   "cell_type": "code",
   "execution_count": null,
   "id": "b641eac5",
   "metadata": {},
   "outputs": [],
   "source": [
    "INSERT INTO employees (id, name, salary)\n",
    "VALUES (1, 'rms', 50000);"
   ]
  },
  {
   "cell_type": "markdown",
   "id": "936a6aae",
   "metadata": {},
   "source": [
    "UPDATE is used to modify existing data in a table. For example, the following SQL command updates the salary of the employee with an ID of 1:"
   ]
  },
  {
   "cell_type": "code",
   "execution_count": null,
   "id": "6e336b86",
   "metadata": {},
   "outputs": [],
   "source": [
    "UPDATE employees\n",
    "SET salary = 55000\n",
    "WHERE id = 1;"
   ]
  },
  {
   "cell_type": "markdown",
   "id": "bbd3758b",
   "metadata": {},
   "source": [
    "DELETE is used to delete rows of data from a table. For example, the following SQL command deletes the employee with an ID of 1:\n"
   ]
  },
  {
   "cell_type": "code",
   "execution_count": null,
   "id": "7389d8f9",
   "metadata": {},
   "outputs": [],
   "source": [
    "DELETE FROM employees\n",
    "WHERE id = 1;"
   ]
  },
  {
   "cell_type": "markdown",
   "id": "9d33af50",
   "metadata": {},
   "source": [
    "#### 4. What is DQL? Explain SELECT with an example."
   ]
  },
  {
   "cell_type": "markdown",
   "id": "e5d9cf1b",
   "metadata": {},
   "source": [
    "DQL (Data Query Language) is a subset of SQL that is used to retrieve data from a database. It includes commands for querying data in database tables."
   ]
  },
  {
   "cell_type": "markdown",
   "id": "42ac858d",
   "metadata": {},
   "source": [
    "SELECT is the most commonly used DQL command. It is used to retrieve data from one or more tables in a database. For example, the following SQL command selects all the data from the \"employees\" table:"
   ]
  },
  {
   "cell_type": "code",
   "execution_count": null,
   "id": "51d36e2d",
   "metadata": {},
   "outputs": [],
   "source": [
    "SELECT * FROM employees;"
   ]
  },
  {
   "cell_type": "markdown",
   "id": "50882783",
   "metadata": {},
   "source": [
    "#### 5. Explain Primary Key and Foreign Key."
   ]
  },
  {
   "cell_type": "markdown",
   "id": "5c20d90e",
   "metadata": {},
   "source": [
    "##### Primary Key"
   ]
  },
  {
   "cell_type": "markdown",
   "id": "4dc8b5cc",
   "metadata": {},
   "source": [
    "A primary key is a special type of constraint used in a database to uniquely identify each row in a table. It can be a single column or a combination of columns in a table, but it must be unique and cannot contain null values. Primary keys are used to enforce referential integrity between tables and to ensure that each row in a table can be uniquely identified."
   ]
  },
  {
   "cell_type": "markdown",
   "id": "c5d27dc3",
   "metadata": {},
   "source": [
    "##### Foreign Key"
   ]
  },
  {
   "cell_type": "markdown",
   "id": "be5f6d94",
   "metadata": {},
   "source": [
    "A foreign key is a column in a table that refers to the primary key of another table. It establishes a link between two tables and allows data to be retrieved from multiple tables using a single query. Foreign keys are used to enforce referential integrity between tables and to ensure that data is consistent across tables. When a foreign key is defined, it must refer to an existing primary key in another table, or it must be null if the relationship is optional."
   ]
  },
  {
   "cell_type": "markdown",
   "id": "8f505f47",
   "metadata": {},
   "source": [
    "In summary, a primary key is used to uniquely identify each row in a table, while a foreign key is used to link two tables together based on a common column."
   ]
  },
  {
   "cell_type": "markdown",
   "id": "7f068b43",
   "metadata": {},
   "source": [
    "#### 6. Write a python code to connect MySQL to python. Explain the cursor() and execute() method."
   ]
  },
  {
   "cell_type": "code",
   "execution_count": null,
   "id": "fad95cb8",
   "metadata": {},
   "outputs": [],
   "source": [
    "import mysql.connector\n",
    "\n",
    "# Connect to the database\n",
    "mydb = mysql.connector.connect(\n",
    "  host=\"localhost\",\n",
    "  user=\"root\",\n",
    "  password=\"123\"\n",
    ")\n",
    "\n",
    "# Create a cursor object\n",
    "mycursor = mydb.cursor()\n",
    "\n",
    "# Execute a SQL query\n",
    "mycursor.execute(\"SELECT * FROM orders\")\n",
    "\n",
    "# Fetch the result\n",
    "result = mycursor.fetchall()\n",
    "\n",
    "# Print the result\n",
    "for row in result:\n",
    "  print(row)"
   ]
  },
  {
   "cell_type": "markdown",
   "id": "db384e91",
   "metadata": {},
   "source": [
    "##### cursor() method:"
   ]
  },
  {
   "cell_type": "markdown",
   "id": "b1faa5d3",
   "metadata": {},
   "source": [
    "When we connect to a database using Python, we need a cursor object to execute SQL queries.\n",
    "\n",
    "We can create a cursor object using the cursor() method of the database connection object.\n",
    "\n",
    "The cursor object is used to execute SQL statements and fetch results from the database.\n",
    "\n",
    "We can have multiple cursor objects associated with a single database connection."
   ]
  },
  {
   "cell_type": "markdown",
   "id": "09184899",
   "metadata": {},
   "source": [
    "##### execute() method"
   ]
  },
  {
   "cell_type": "markdown",
   "id": "833eb908",
   "metadata": {},
   "source": [
    "The execute() method of the cursor object is used to execute SQL statements.\n",
    "\n",
    "We can pass the SQL statement as a string to the execute() method.\n",
    "\n",
    "The execute() method returns None if the SQL statement does not return any results, or returns a cursor object if the SQL statement returns a result set."
   ]
  },
  {
   "cell_type": "markdown",
   "id": "4f52d1ff",
   "metadata": {},
   "source": [
    "#### 7. Give the order of execution of SQL clauses in an SQL query."
   ]
  },
  {
   "cell_type": "markdown",
   "id": "aa6d034f",
   "metadata": {},
   "source": [
    "FROM: This clause specifies the table or tables that the query is retrieving data from.\n",
    "    \n",
    "JOIN: This clause is used to combine data from two or more tables based on a common column.\n",
    "    \n",
    "WHERE: This clause is used to filter the rows that match a specified condition.\n",
    "    \n",
    "GROUP BY: This clause is used to group the result set based on one or more columns.\n",
    "    \n",
    "HAVING: This clause is used to filter the groups that match a specified condition.\n",
    "    \n",
    "SELECT: This clause is used to select the columns that should be included in the result set.\n",
    "    \n",
    "DISTINCT: This keyword is used to remove duplicate rows from the result set.\n",
    "    \n",
    "ORDER BY: This clause is used to sort the result set based on one or more columns.\n",
    "    \n",
    "LIMIT: This clause is used to limit the number of rows returned by the query."
   ]
  }
 ],
 "metadata": {
  "kernelspec": {
   "display_name": "Python 3 (ipykernel)",
   "language": "python",
   "name": "python3"
  },
  "language_info": {
   "codemirror_mode": {
    "name": "ipython",
    "version": 3
   },
   "file_extension": ".py",
   "mimetype": "text/x-python",
   "name": "python",
   "nbconvert_exporter": "python",
   "pygments_lexer": "ipython3",
   "version": "3.9.12"
  }
 },
 "nbformat": 4,
 "nbformat_minor": 5
}
